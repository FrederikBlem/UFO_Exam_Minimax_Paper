{
 "cells": [
  {
   "cell_type": "markdown",
   "metadata": {},
   "source": [
    "# TicTacToe - Minimax with Alpha Beta pruning\n",
    "\n",
    "## Initialize The Board"
   ]
  },
  {
   "cell_type": "code",
   "execution_count": 1,
   "metadata": {},
   "outputs": [],
   "source": [
    "# Initialize the players and signs\n",
    "EMPTY = '.'\n",
    "AI = 'X'\n",
    "HUMAN = 'O'\n",
    "count = 0\n",
    "turn_count = 0"
   ]
  },
  {
   "cell_type": "code",
   "execution_count": 2,
   "metadata": {},
   "outputs": [],
   "source": [
    "# print the board, leave an empty lines and spaces for visibility\n",
    "def print_board(board):\n",
    "    print(\" \")\n",
    "    print(' '.join(board[:3]))\n",
    "    print(' '.join(board[3:6]))\n",
    "    print(' '.join(board[6:]))\n",
    "    print(\" \")"
   ]
  },
  {
   "cell_type": "code",
   "execution_count": 3,
   "metadata": {},
   "outputs": [],
   "source": [
    "# Define all possible winning combinations\n",
    "win_cases = [\n",
    "    [0, 1, 2],\n",
    "    [3, 4, 5],\n",
    "    [6, 7, 8],\n",
    "    [0, 3, 6],\n",
    "    [1, 4, 7],\n",
    "    [2, 5, 8],\n",
    "    [0, 4, 8],\n",
    "    [2, 4, 6]\n",
    "]"
   ]
  },
  {
   "cell_type": "markdown",
   "metadata": {},
   "source": [
    "## Supporting Functions"
   ]
  },
  {
   "cell_type": "code",
   "execution_count": 4,
   "metadata": {},
   "outputs": [],
   "source": [
    "# A winning game is if any of win-cases occurs\n",
    "def game_won_by(board):\n",
    "    for i in win_cases:\n",
    "        if board[i[0]] == board[i[1]] == board[i[2]] != EMPTY:\n",
    "            # win-case\n",
    "            return board[i[0]]\n",
    "    return EMPTY"
   ]
  },
  {
   "cell_type": "code",
   "execution_count": 5,
   "metadata": {},
   "outputs": [],
   "source": [
    "def evaluate(board):\n",
    "    for [i, j, k] in win_cases:\n",
    "        triple = [board[i], board[j], board[k]]\n",
    "        if triple.count(HUMAN) == 3: \n",
    "            return -10\n",
    "        if triple.count(AI) == 3: \n",
    "            return 10\n",
    "    return 0"
   ]
  },
  {
   "cell_type": "code",
   "execution_count": 6,
   "metadata": {},
   "outputs": [],
   "source": [
    "def all_possible_moves(board, sign):\n",
    "    move_list = []\n",
    "    for i, v in enumerate(board):\n",
    "        if v == EMPTY:\n",
    "            move_list.append(board[:i] + sign + board[i+1:])\n",
    "    return move_list"
   ]
  },
  {
   "cell_type": "code",
   "execution_count": 7,
   "metadata": {},
   "outputs": [],
   "source": [
    "def minimax(board, depth, alpha, beta, isMax):\n",
    "    global count \n",
    "    score = evaluate(board)\n",
    "    count += 1\n",
    "    if score == 10: \n",
    "        return score\n",
    "    if score == -10:\n",
    "        return score\n",
    "    if board.count(EMPTY) == 0:\n",
    "        return 0\n",
    "    \n",
    "    if isMax:\n",
    "        maxEval = float('-inf')\n",
    "        for move in all_possible_moves(board, AI):\n",
    "            evaluation = minimax(move, depth + 1, alpha, beta, not isMax)\n",
    "            maxEval = max(maxEval, evaluation)\n",
    "            alpha = max(alpha, evaluation)\n",
    "            if beta <= alpha:\n",
    "                break\n",
    "        return maxEval\n",
    "    else:\n",
    "        minEval = float('inf')\n",
    "        for move in all_possible_moves(board, HUMAN):\n",
    "            evaluation = minimax(move, depth + 1, alpha, beta, not isMax)\n",
    "            minEval = min(minEval, evaluation)\n",
    "            beta = min(beta, evaluation)\n",
    "            if beta <= alpha:\n",
    "                break\n",
    "        return minEval"
   ]
  },
  {
   "cell_type": "markdown",
   "metadata": {},
   "source": [
    "## Play Game"
   ]
  },
  {
   "cell_type": "code",
   "execution_count": 8,
   "metadata": {},
   "outputs": [],
   "source": [
    "# AI makes a move based on minmax algorithmic search for the most rational move to make\n",
    "def ai_move(board):\n",
    "    global count\n",
    "    count = 0\n",
    "    best_move = board\n",
    "    best_value = float('-inf')\n",
    "    for move in all_possible_moves(board, AI):\n",
    "        #print(move)\n",
    "        move_val = minimax(move, 0, float('-inf'), float('inf'),False)\n",
    "        #print(move_val)\n",
    "        if move_val > best_value or best_value == None:\n",
    "            best_move = move\n",
    "            best_value = move_val\n",
    "    print(\"number of considered moves \", count)\n",
    "    return best_move"
   ]
  },
  {
   "cell_type": "code",
   "execution_count": 9,
   "metadata": {},
   "outputs": [],
   "source": [
    "# Human move approach still the same\n",
    "def human_move(board, row, column):\n",
    "    # get the index of the cell the user selected: 2D -> 1D \n",
    "    index = 3 * (row - 1) + (column - 1)\n",
    "    #  if this cell is empty, make the user move, otherwise do nothing\n",
    "    if board[index] == EMPTY:\n",
    "        # place HUMAN sign on board[index]\n",
    "        return board[:index] + HUMAN + board[index+1:]\n",
    "    return board"
   ]
  },
  {
   "cell_type": "code",
   "execution_count": 10,
   "metadata": {},
   "outputs": [],
   "source": [
    "# Play the game\n",
    "def game():\n",
    "    global turn_count\n",
    "    # start from empty board\n",
    "    board = EMPTY * 9\n",
    "    empty_cell_count = 9\n",
    "    end_flag = False\n",
    "    while empty_cell_count > 0 and not end_flag:   \n",
    "        turn_count+=1\n",
    "        print(\"Turn: \", turn_count)\n",
    "        # Player AI (always odd number of options)\n",
    "        if empty_cell_count % 2 == 1:\n",
    "            board = ai_move(board)\n",
    "        else:\n",
    "            # Human player\n",
    "            row = int(input('Enter row: '))\n",
    "            col = int(input('Enter column: '))\n",
    "            board = human_move(board, row, col)\n",
    "            \n",
    "        # Print current board status    \n",
    "        print_board(board)\n",
    "        \n",
    "        # Check if someone wins already, update the flag\n",
    "        end_flag = game_won_by(board) != EMPTY\n",
    "        \n",
    "        # Count how many empty cells left\n",
    "        empty_cell_count = board.count(EMPTY)      \n",
    "        # empty_cell_count = sum(1 for cell in board if cell == EMPTY_SIGN)\n",
    "     \n",
    "    print('Game ended. Winner: ', game_won_by(board))"
   ]
  },
  {
   "cell_type": "code",
   "execution_count": 11,
   "metadata": {},
   "outputs": [
    {
     "name": "stdout",
     "output_type": "stream",
     "text": [
      "Turn:  1\n",
      "number of considered moves  30709\n",
      " \n",
      "X . .\n",
      ". . .\n",
      ". . .\n",
      " \n",
      "Turn:  2\n",
      "Enter row: 2\n",
      "Enter column: 2\n",
      " \n",
      "X . .\n",
      ". O .\n",
      ". . .\n",
      " \n",
      "Turn:  3\n",
      "number of considered moves  1519\n",
      " \n",
      "X X .\n",
      ". O .\n",
      ". . .\n",
      " \n",
      "Turn:  4\n",
      "Enter row: 1\n",
      "Enter column: 3\n",
      " \n",
      "X X O\n",
      ". O .\n",
      ". . .\n",
      " \n",
      "Turn:  5\n",
      "number of considered moves  97\n",
      " \n",
      "X X O\n",
      ". O .\n",
      "X . .\n",
      " \n",
      "Turn:  6\n",
      "Enter row: 2\n",
      "Enter column: 1\n",
      " \n",
      "X X O\n",
      "O O .\n",
      "X . .\n",
      " \n",
      "Turn:  7\n",
      "number of considered moves  13\n",
      " \n",
      "X X O\n",
      "O O X\n",
      "X . .\n",
      " \n",
      "Turn:  8\n",
      "Enter row: 3\n",
      "Enter column: 3\n",
      " \n",
      "X X O\n",
      "O O X\n",
      "X . O\n",
      " \n",
      "Turn:  9\n",
      "number of considered moves  1\n",
      " \n",
      "X X O\n",
      "O O X\n",
      "X X O\n",
      " \n",
      "Game ended. Winner:  .\n"
     ]
    }
   ],
   "source": [
    "# Run the game\n",
    "game()"
   ]
  },
  {
   "cell_type": "code",
   "execution_count": null,
   "metadata": {},
   "outputs": [],
   "source": []
  }
 ],
 "metadata": {
  "kernelspec": {
   "display_name": "Python 3",
   "language": "python",
   "name": "python3"
  },
  "language_info": {
   "codemirror_mode": {
    "name": "ipython",
    "version": 3
   },
   "file_extension": ".py",
   "mimetype": "text/x-python",
   "name": "python",
   "nbconvert_exporter": "python",
   "pygments_lexer": "ipython3",
   "version": "3.9.0"
  }
 },
 "nbformat": 4,
 "nbformat_minor": 2
}
